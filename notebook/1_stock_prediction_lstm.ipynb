{
 "cells": [
  {
   "cell_type": "code",
   "execution_count": 1,
   "metadata": {},
   "outputs": [],
   "source": [
    "import numpy as np \n",
    "import pandas as pd \n",
    "import scipy\n",
    "import matplotlib.pyplot as plt\n",
    "from numpy import array\n",
    "from sklearn.preprocessing import MinMaxScaler\n",
    "from sklearn.metrics import mean_squared_error\n",
    "from tensorflow.keras.models import Sequential\n",
    "from tensorflow.keras.layers import Dense\n",
    "from tensorflow.keras.layers import LSTM\n",
    "import math"
   ]
  },
  {
   "cell_type": "markdown",
   "metadata": {},
   "source": [
    "# Collect Data"
   ]
  },
  {
   "cell_type": "code",
   "execution_count": 5,
   "metadata": {},
   "outputs": [
    {
     "data": {
      "text/html": [
       "<div>\n",
       "<style scoped>\n",
       "    .dataframe tbody tr th:only-of-type {\n",
       "        vertical-align: middle;\n",
       "    }\n",
       "\n",
       "    .dataframe tbody tr th {\n",
       "        vertical-align: top;\n",
       "    }\n",
       "\n",
       "    .dataframe thead th {\n",
       "        text-align: right;\n",
       "    }\n",
       "</style>\n",
       "<table border=\"1\" class=\"dataframe\">\n",
       "  <thead>\n",
       "    <tr style=\"text-align: right;\">\n",
       "      <th></th>\n",
       "      <th>Date</th>\n",
       "      <th>Open</th>\n",
       "      <th>High</th>\n",
       "      <th>Low</th>\n",
       "      <th>Close</th>\n",
       "      <th>Volume</th>\n",
       "      <th>OpenInt</th>\n",
       "    </tr>\n",
       "  </thead>\n",
       "  <tbody>\n",
       "    <tr>\n",
       "      <th>1344</th>\n",
       "      <td>1990-01-02</td>\n",
       "      <td>1.1283</td>\n",
       "      <td>1.2013</td>\n",
       "      <td>1.1206</td>\n",
       "      <td>1.1921</td>\n",
       "      <td>51090928</td>\n",
       "      <td>0</td>\n",
       "    </tr>\n",
       "    <tr>\n",
       "      <th>1345</th>\n",
       "      <td>1990-01-03</td>\n",
       "      <td>1.2167</td>\n",
       "      <td>1.2167</td>\n",
       "      <td>1.2013</td>\n",
       "      <td>1.2013</td>\n",
       "      <td>58006332</td>\n",
       "      <td>0</td>\n",
       "    </tr>\n",
       "    <tr>\n",
       "      <th>1346</th>\n",
       "      <td>1990-01-04</td>\n",
       "      <td>1.2241</td>\n",
       "      <td>1.2407</td>\n",
       "      <td>1.1921</td>\n",
       "      <td>1.2037</td>\n",
       "      <td>61776401</td>\n",
       "      <td>0</td>\n",
       "    </tr>\n",
       "    <tr>\n",
       "      <th>1347</th>\n",
       "      <td>1990-01-05</td>\n",
       "      <td>1.2089</td>\n",
       "      <td>1.2241</td>\n",
       "      <td>1.1845</td>\n",
       "      <td>1.2089</td>\n",
       "      <td>34389635</td>\n",
       "      <td>0</td>\n",
       "    </tr>\n",
       "    <tr>\n",
       "      <th>1348</th>\n",
       "      <td>1990-01-08</td>\n",
       "      <td>1.2013</td>\n",
       "      <td>1.2167</td>\n",
       "      <td>1.1845</td>\n",
       "      <td>1.2167</td>\n",
       "      <td>28326921</td>\n",
       "      <td>0</td>\n",
       "    </tr>\n",
       "    <tr>\n",
       "      <th>...</th>\n",
       "      <td>...</td>\n",
       "      <td>...</td>\n",
       "      <td>...</td>\n",
       "      <td>...</td>\n",
       "      <td>...</td>\n",
       "      <td>...</td>\n",
       "      <td>...</td>\n",
       "    </tr>\n",
       "    <tr>\n",
       "      <th>8359</th>\n",
       "      <td>2017-11-06</td>\n",
       "      <td>171.7500</td>\n",
       "      <td>174.3600</td>\n",
       "      <td>171.1000</td>\n",
       "      <td>173.6300</td>\n",
       "      <td>34901241</td>\n",
       "      <td>0</td>\n",
       "    </tr>\n",
       "    <tr>\n",
       "      <th>8360</th>\n",
       "      <td>2017-11-07</td>\n",
       "      <td>173.2900</td>\n",
       "      <td>174.5100</td>\n",
       "      <td>173.2900</td>\n",
       "      <td>174.1800</td>\n",
       "      <td>24424877</td>\n",
       "      <td>0</td>\n",
       "    </tr>\n",
       "    <tr>\n",
       "      <th>8361</th>\n",
       "      <td>2017-11-08</td>\n",
       "      <td>174.0300</td>\n",
       "      <td>175.6100</td>\n",
       "      <td>173.7100</td>\n",
       "      <td>175.6100</td>\n",
       "      <td>24451166</td>\n",
       "      <td>0</td>\n",
       "    </tr>\n",
       "    <tr>\n",
       "      <th>8362</th>\n",
       "      <td>2017-11-09</td>\n",
       "      <td>174.4800</td>\n",
       "      <td>175.4600</td>\n",
       "      <td>172.5200</td>\n",
       "      <td>175.2500</td>\n",
       "      <td>29533086</td>\n",
       "      <td>0</td>\n",
       "    </tr>\n",
       "    <tr>\n",
       "      <th>8363</th>\n",
       "      <td>2017-11-10</td>\n",
       "      <td>175.1100</td>\n",
       "      <td>175.3800</td>\n",
       "      <td>174.2700</td>\n",
       "      <td>174.6700</td>\n",
       "      <td>25130494</td>\n",
       "      <td>0</td>\n",
       "    </tr>\n",
       "  </tbody>\n",
       "</table>\n",
       "<p>7020 rows × 7 columns</p>\n",
       "</div>"
      ],
      "text/plain": [
       "            Date      Open      High       Low     Close    Volume  OpenInt\n",
       "1344  1990-01-02    1.1283    1.2013    1.1206    1.1921  51090928        0\n",
       "1345  1990-01-03    1.2167    1.2167    1.2013    1.2013  58006332        0\n",
       "1346  1990-01-04    1.2241    1.2407    1.1921    1.2037  61776401        0\n",
       "1347  1990-01-05    1.2089    1.2241    1.1845    1.2089  34389635        0\n",
       "1348  1990-01-08    1.2013    1.2167    1.1845    1.2167  28326921        0\n",
       "...          ...       ...       ...       ...       ...       ...      ...\n",
       "8359  2017-11-06  171.7500  174.3600  171.1000  173.6300  34901241        0\n",
       "8360  2017-11-07  173.2900  174.5100  173.2900  174.1800  24424877        0\n",
       "8361  2017-11-08  174.0300  175.6100  173.7100  175.6100  24451166        0\n",
       "8362  2017-11-09  174.4800  175.4600  172.5200  175.2500  29533086        0\n",
       "8363  2017-11-10  175.1100  175.3800  174.2700  174.6700  25130494        0\n",
       "\n",
       "[7020 rows x 7 columns]"
      ]
     },
     "execution_count": 5,
     "metadata": {},
     "output_type": "execute_result"
    }
   ],
   "source": [
    "df = pd.read_csv(\"../datasets/Stocks/aapl.us.txt\", sep=',')\n",
    "df = df[df['Date'] > '1990-01-01']\n",
    "df"
   ]
  },
  {
   "cell_type": "code",
   "execution_count": 6,
   "metadata": {},
   "outputs": [
    {
     "data": {
      "text/plain": [
       "0    1.1921\n",
       "1    1.2013\n",
       "2    1.2037\n",
       "3    1.2089\n",
       "4    1.2167\n",
       "Name: Close, dtype: float64"
      ]
     },
     "execution_count": 6,
     "metadata": {},
     "output_type": "execute_result"
    }
   ],
   "source": [
    "df_close = df.reset_index()['Close']\n",
    "df_close.head()"
   ]
  },
  {
   "cell_type": "code",
   "execution_count": 7,
   "metadata": {},
   "outputs": [
    {
     "data": {
      "image/png": "[encoded data removed]",
      "text/plain": [
       "<Figure size 640x480 with 1 Axes>"
      ]
     },
     "metadata": {},
     "output_type": "display_data"
    }
   ],
   "source": [
    "plt.plot(df_close)\n",
    "plt.show()"
   ]
  },
  {
   "cell_type": "code",
   "execution_count": 9,
   "metadata": {},
   "outputs": [
    {
     "name": "stdout",
     "output_type": "stream",
     "text": [
      "[[0.00444324]\n",
      " [0.00449576]\n",
      " [0.00450945]\n",
      " ...\n",
      " [1.        ]\n",
      " [0.99794516]\n",
      " [0.99463459]]\n"
     ]
    }
   ],
   "source": [
    "scaler = MinMaxScaler(feature_range=(0,1))\n",
    "df_close = scaler.fit_transform(np.array(df_close).reshape(-1, 1))\n",
    "print(df_close)"
   ]
  },
  {
   "cell_type": "markdown",
   "metadata": {},
   "source": [
    "# Preprocessing Data with Train and Test"
   ]
  },
  {
   "cell_type": "code",
   "execution_count": 10,
   "metadata": {},
   "outputs": [],
   "source": [
    "train_dataset_size = int(len(df_close) * 0.70)\n",
    "test_dataset_size = int(len(df_close) - train_dataset_size)\n",
    "train_data, test_data = df_close[0:train_dataset_size], df_close[train_dataset_size: len(df_close)]"
   ]
  },
  {
   "cell_type": "code",
   "execution_count": 13,
   "metadata": {},
   "outputs": [
    {
     "data": {
      "text/plain": [
       "4914"
      ]
     },
     "execution_count": 13,
     "metadata": {},
     "output_type": "execute_result"
    }
   ],
   "source": [
    "len(train_data)"
   ]
  },
  {
   "cell_type": "code",
   "execution_count": 14,
   "metadata": {},
   "outputs": [
    {
     "data": {
      "text/plain": [
       "2106"
      ]
     },
     "execution_count": 14,
     "metadata": {},
     "output_type": "execute_result"
    }
   ],
   "source": [
    "len(test_data)"
   ]
  },
  {
   "cell_type": "code",
   "execution_count": 15,
   "metadata": {},
   "outputs": [],
   "source": [
    "def create_dataset(dataset, time_step=1):\n",
    "    dataX, dataY = [], []\n",
    "    for i in range(len(dataset) - time_step -1 ):\n",
    "        a = dataset[i: (i+time_step), 0]\n",
    "        dataX.append(a)\n",
    "        dataY.append(dataset[ i + time_step, 0])\n",
    "    return np.array(dataX), np.array(dataY)"
   ]
  },
  {
   "cell_type": "code",
   "execution_count": 16,
   "metadata": {},
   "outputs": [],
   "source": [
    "time_step = 100\n",
    "X_train, Y_train = create_dataset(train_data, time_step)\n",
    "x_test, y_test = create_dataset(test_data, time_step)"
   ]
  },
  {
   "cell_type": "code",
   "execution_count": 17,
   "metadata": {},
   "outputs": [
    {
     "data": {
      "text/plain": [
       "(4813, 100)"
      ]
     },
     "metadata": {},
     "output_type": "display_data"
    },
    {
     "data": {
      "text/plain": [
       "(4813,)"
      ]
     },
     "metadata": {},
     "output_type": "display_data"
    },
    {
     "data": {
      "text/plain": [
       "(2005, 100)"
      ]
     },
     "metadata": {},
     "output_type": "display_data"
    },
    {
     "data": {
      "text/plain": [
       "(2005,)"
      ]
     },
     "metadata": {},
     "output_type": "display_data"
    }
   ],
   "source": [
    "display(X_train.shape)\n",
    "display(Y_train.shape)\n",
    "\n",
    "display(x_test.shape)\n",
    "display(y_test.shape)"
   ]
  },
  {
   "cell_type": "markdown",
   "metadata": {},
   "source": [
    "# Create LSTM Model"
   ]
  },
  {
   "cell_type": "code",
   "execution_count": 19,
   "metadata": {},
   "outputs": [
    {
     "data": {
      "text/plain": [
       "array([[[0.00444324],\n",
       "        [0.00449576],\n",
       "        [0.00450945],\n",
       "        ...,\n",
       "        [0.00486106],\n",
       "        [0.00520467],\n",
       "        [0.00531427]],\n",
       "\n",
       "       [[0.00449576],\n",
       "        [0.00450945],\n",
       "        [0.00453914],\n",
       "        ...,\n",
       "        [0.00520467],\n",
       "        [0.00531427],\n",
       "        [0.00531427]],\n",
       "\n",
       "       [[0.00450945],\n",
       "        [0.00453914],\n",
       "        [0.00458366],\n",
       "        ...,\n",
       "        [0.00531427],\n",
       "        [0.00531427],\n",
       "        [0.00494953]],\n",
       "\n",
       "       ...,\n",
       "\n",
       "       [[0.0660193 ],\n",
       "        [0.06815976],\n",
       "        [0.07052853],\n",
       "        ...,\n",
       "        [0.09720146],\n",
       "        [0.09987275],\n",
       "        [0.10175635]],\n",
       "\n",
       "       [[0.06815976],\n",
       "        [0.07052853],\n",
       "        [0.07256624],\n",
       "        ...,\n",
       "        [0.09987275],\n",
       "        [0.10175635],\n",
       "        [0.10140246]],\n",
       "\n",
       "       [[0.07052853],\n",
       "        [0.07256624],\n",
       "        [0.06915864],\n",
       "        ...,\n",
       "        [0.10175635],\n",
       "        [0.10140246],\n",
       "        [0.10175064]]])"
      ]
     },
     "metadata": {},
     "output_type": "display_data"
    },
    {
     "data": {
      "text/plain": [
       "array([[[0.09894807],\n",
       "        [0.09662496],\n",
       "        [0.09794348],\n",
       "        ...,\n",
       "        [0.14420016],\n",
       "        [0.14376636],\n",
       "        [0.14812147]],\n",
       "\n",
       "       [[0.09662496],\n",
       "        [0.09794348],\n",
       "        [0.0973042 ],\n",
       "        ...,\n",
       "        [0.14376636],\n",
       "        [0.14812147],\n",
       "        [0.14707122]],\n",
       "\n",
       "       [[0.09794348],\n",
       "        [0.0973042 ],\n",
       "        [0.09887958],\n",
       "        ...,\n",
       "        [0.14812147],\n",
       "        [0.14707122],\n",
       "        [0.14689428]],\n",
       "\n",
       "       ...,\n",
       "\n",
       "       [[0.80359179],\n",
       "        [0.82670871],\n",
       "        [0.81911723],\n",
       "        ...,\n",
       "        [0.95376616],\n",
       "        [0.9787096 ],\n",
       "        [0.98869839]],\n",
       "\n",
       "       [[0.82670871],\n",
       "        [0.81911723],\n",
       "        [0.824026  ],\n",
       "        ...,\n",
       "        [0.9787096 ],\n",
       "        [0.98869839],\n",
       "        [0.99183773]],\n",
       "\n",
       "       [[0.81911723],\n",
       "        [0.824026  ],\n",
       "        [0.82265611],\n",
       "        ...,\n",
       "        [0.98869839],\n",
       "        [0.99183773],\n",
       "        [1.        ]]])"
      ]
     },
     "metadata": {},
     "output_type": "display_data"
    }
   ],
   "source": [
    "X_train = X_train.reshape(X_train.shape[0], X_train.shape[1], 1)\n",
    "x_test = x_test.reshape(x_test.shape[0], x_test.shape[1], 1)\n",
    "\n",
    "display(X_train)\n",
    "display(x_test)"
   ]
  },
  {
   "cell_type": "code",
   "execution_count": 20,
   "metadata": {},
   "outputs": [
    {
     "data": {
      "text/plain": [
       "(4813, 100, 1)"
      ]
     },
     "metadata": {},
     "output_type": "display_data"
    },
    {
     "data": {
      "text/plain": [
       "(2005, 100, 1)"
      ]
     },
     "metadata": {},
     "output_type": "display_data"
    }
   ],
   "source": [
    "display(X_train.shape)\n",
    "display(x_test.shape)"
   ]
  },
  {
   "cell_type": "code",
   "execution_count": 60,
   "metadata": {},
   "outputs": [],
   "source": [
    "import tensorflow as tf"
   ]
  },
  {
   "cell_type": "code",
   "execution_count": 62,
   "metadata": {},
   "outputs": [
    {
     "name": "stdout",
     "output_type": "stream",
     "text": [
      "Model: \"sequential_2\"\n",
      "_________________________________________________________________\n",
      " Layer (type)                Output Shape              Param #   \n",
      "=================================================================\n",
      " lstm_6 (LSTM)               (None, 100, 50)           10400     \n",
      "                                                                 \n",
      " lstm_7 (LSTM)               (None, 100, 50)           20200     \n",
      "                                                                 \n",
      " lstm_8 (LSTM)               (None, 50)                20200     \n",
      "                                                                 \n",
      " dropout (Dropout)           (None, 50)                0         \n",
      "                                                                 \n",
      " dense_1 (Dense)             (None, 1)                 51        \n",
      "                                                                 \n",
      "=================================================================\n",
      "Total params: 50,851\n",
      "Trainable params: 50,851\n",
      "Non-trainable params: 0\n",
      "_________________________________________________________________\n"
     ]
    }
   ],
   "source": [
    "model = Sequential()\n",
    "model.add(LSTM(50, return_sequences=True, input_shape=(100, 1)))\n",
    "model.add(LSTM(50, return_sequences=True))\n",
    "model.add(LSTM(50))\n",
    "model.add(tf.keras.layers.Dropout(0.1))\n",
    "model.add(Dense(1))\n",
    "model.compile(loss=\"mean_squared_error\", optimizer=\"adam\")\n",
    "\n",
    "model.summary()"
   ]
  },
  {
   "cell_type": "code",
   "execution_count": 63,
   "metadata": {},
   "outputs": [
    {
     "name": "stdout",
     "output_type": "stream",
     "text": [
      "Epoch 1/20\n"
     ]
    },
    {
     "name": "stdout",
     "output_type": "stream",
     "text": [
      "76/76 [==============================] - 59s 359ms/step - loss: 1.2297e-04 - val_loss: 0.0021\n",
      "Epoch 2/20\n",
      "76/76 [==============================] - 23s 299ms/step - loss: 1.7242e-05 - val_loss: 0.0045\n",
      "Epoch 3/20\n",
      "76/76 [==============================] - 24s 319ms/step - loss: 1.8290e-05 - val_loss: 0.0043\n",
      "Epoch 4/20\n",
      "76/76 [==============================] - 24s 310ms/step - loss: 1.5182e-05 - val_loss: 0.0033\n",
      "Epoch 5/20\n",
      "76/76 [==============================] - 27s 357ms/step - loss: 1.4773e-05 - val_loss: 0.0064\n",
      "Epoch 6/20\n",
      "76/76 [==============================] - 27s 353ms/step - loss: 1.4989e-05 - val_loss: 0.0035\n",
      "Epoch 7/20\n",
      "76/76 [==============================] - 23s 302ms/step - loss: 1.8120e-05 - val_loss: 0.0042\n",
      "Epoch 8/20\n",
      "76/76 [==============================] - 23s 302ms/step - loss: 1.2740e-05 - val_loss: 0.0025\n",
      "Epoch 9/20\n",
      "76/76 [==============================] - 23s 307ms/step - loss: 1.1212e-05 - val_loss: 0.0024\n",
      "Epoch 10/20\n",
      "76/76 [==============================] - 23s 303ms/step - loss: 1.0536e-05 - val_loss: 0.0017\n",
      "Epoch 11/20\n",
      "76/76 [==============================] - 24s 322ms/step - loss: 1.1537e-05 - val_loss: 0.0063\n",
      "Epoch 12/20\n",
      "76/76 [==============================] - 24s 315ms/step - loss: 1.1468e-05 - val_loss: 0.0046\n",
      "Epoch 13/20\n",
      "76/76 [==============================] - 24s 317ms/step - loss: 1.0889e-05 - val_loss: 0.0055\n",
      "Epoch 14/20\n",
      "76/76 [==============================] - 24s 312ms/step - loss: 1.0300e-05 - val_loss: 0.0043\n",
      "Epoch 15/20\n",
      "76/76 [==============================] - 25s 324ms/step - loss: 1.1009e-05 - val_loss: 0.0036\n",
      "Epoch 16/20\n",
      "76/76 [==============================] - 24s 314ms/step - loss: 8.8264e-06 - val_loss: 0.0033\n",
      "Epoch 17/20\n",
      "76/76 [==============================] - 25s 331ms/step - loss: 9.1899e-06 - val_loss: 0.0019\n",
      "Epoch 18/20\n",
      "76/76 [==============================] - 26s 343ms/step - loss: 1.0804e-05 - val_loss: 0.0044\n",
      "Epoch 19/20\n",
      "76/76 [==============================] - 30s 392ms/step - loss: 7.6167e-06 - val_loss: 0.0036\n",
      "Epoch 20/20\n",
      "76/76 [==============================] - 29s 381ms/step - loss: 8.1019e-06 - val_loss: 0.0018\n"
     ]
    },
    {
     "data": {
      "text/plain": [
       "<keras.callbacks.History at 0x165753c9bd0>"
      ]
     },
     "execution_count": 63,
     "metadata": {},
     "output_type": "execute_result"
    }
   ],
   "source": [
    "model.fit(X_train, Y_train, \n",
    "          validation_data=(x_test, y_test), \n",
    "          epochs=20,\n",
    "          batch_size=64,\n",
    "          verbose=1,\n",
    "          )"
   ]
  },
  {
   "cell_type": "code",
   "execution_count": 23,
   "metadata": {},
   "outputs": [
    {
     "data": {
      "text/plain": [
       "'2.12.0'"
      ]
     },
     "execution_count": 23,
     "metadata": {},
     "output_type": "execute_result"
    }
   ],
   "source": [
    "import tensorflow as tf\n",
    "tf.__version__"
   ]
  },
  {
   "cell_type": "code",
   "execution_count": 64,
   "metadata": {},
   "outputs": [
    {
     "name": "stdout",
     "output_type": "stream",
     "text": [
      "151/151 [==============================] - 18s 80ms/step\n",
      "63/63 [==============================] - 5s 79ms/step\n"
     ]
    }
   ],
   "source": [
    "train_pred = model.predict(X_train)\n",
    "test_pred = model.predict(x_test)\n",
    "\n",
    "train_predict = scaler.inverse_transform(train_pred)\n",
    "test_predict = scaler.inverse_transform(test_pred)"
   ]
  },
  {
   "cell_type": "markdown",
   "metadata": {},
   "source": [
    "# Predict the test data"
   ]
  },
  {
   "cell_type": "code",
   "execution_count": 65,
   "metadata": {},
   "outputs": [
    {
     "data": {
      "text/plain": [
       "6.962810683362053"
      ]
     },
     "execution_count": 65,
     "metadata": {},
     "output_type": "execute_result"
    }
   ],
   "source": [
    "math.sqrt(mean_squared_error(Y_train, train_predict))"
   ]
  },
  {
   "cell_type": "code",
   "execution_count": 66,
   "metadata": {},
   "outputs": [
    {
     "data": {
      "text/plain": [
       "81.96053455113069"
      ]
     },
     "execution_count": 66,
     "metadata": {},
     "output_type": "execute_result"
    }
   ],
   "source": [
    "math.sqrt(mean_squared_error(y_test, test_predict))"
   ]
  },
  {
   "cell_type": "code",
   "execution_count": 67,
   "metadata": {},
   "outputs": [
    {
     "data": {
      "image/png": "[encoded data removed]",
      "text/plain": [
       "<Figure size 640x480 with 1 Axes>"
      ]
     },
     "metadata": {},
     "output_type": "display_data"
    }
   ],
   "source": [
    "look_back = 100\n",
    "train_predict_plot = np.empty_like(df_close)\n",
    "train_predict_plot[:, :] = np.nan\n",
    "train_predict_plot[look_back: len(train_predict)+look_back, :] = train_predict\n",
    "\n",
    "test_predict_plot = np.empty_like(df_close)\n",
    "test_predict_plot[:, :] = np.nan\n",
    "test_predict_plot[len(train_predict)+ (look_back*2)+1 : len(df_close)-1, :] = test_predict\n",
    "\n",
    "plt.plot(scaler.inverse_transform(df_close), label=\"Main\")\n",
    "plt.plot(train_predict_plot, label=\"Train\")\n",
    "plt.plot(test_predict_plot, label=\"Test\")\n",
    "plt.legend()\n",
    "plt.show()"
   ]
  },
  {
   "cell_type": "markdown",
   "metadata": {},
   "source": [
    "# Predict the future 90 days and plot output"
   ]
  },
  {
   "cell_type": "code",
   "execution_count": 28,
   "metadata": {},
   "outputs": [
    {
     "data": {
      "text/plain": [
       "2106"
      ]
     },
     "execution_count": 28,
     "metadata": {},
     "output_type": "execute_result"
    }
   ],
   "source": [
    "len(test_data)"
   ]
  },
  {
   "cell_type": "code",
   "execution_count": 68,
   "metadata": {},
   "outputs": [
    {
     "data": {
      "text/plain": [
       "(1, 100)"
      ]
     },
     "execution_count": 68,
     "metadata": {},
     "output_type": "execute_result"
    }
   ],
   "source": [
    "x_input = test_data[len(test_data)-100 : ].reshape(1, -1)\n",
    "x_input.shape"
   ]
  },
  {
   "cell_type": "code",
   "execution_count": 69,
   "metadata": {},
   "outputs": [
    {
     "data": {
      "text/plain": [
       "[0.8226561125649084,\n",
       " 0.8263662357330066,\n",
       " 0.8237406101063526,\n",
       " 0.8119252947864093,\n",
       " 0.8237976889243234,\n",
       " 0.8116399006965557,\n",
       " 0.8135805805075607,\n",
       " 0.8106124819730822,\n",
       " 0.813980132233356,\n",
       " 0.8062174129893351,\n",
       " 0.8144938415950926,\n",
       " 0.8194026199405763,\n",
       " 0.8220853243852011,\n",
       " 0.8232839795625867,\n",
       " 0.8347568219747056,\n",
       " 0.8420058318569896,\n",
       " 0.8449168515734974,\n",
       " 0.8478278712900051,\n",
       " 0.8531932801792548,\n",
       " 0.8493119205572445,\n",
       " 0.8489123688314492,\n",
       " 0.8593007137021241,\n",
       " 0.8629537580522514,\n",
       " 0.8670063541281741,\n",
       " 0.8505676545526007,\n",
       " 0.8446314574836437,\n",
       " 0.8402363884998967,\n",
       " 0.8476566348360929,\n",
       " 0.8878972015054651,\n",
       " 0.8789358270840589,\n",
       " 0.8836162901576596,\n",
       " 0.8973152064706374,\n",
       " 0.9045071375349507,\n",
       " 0.9101008616960834,\n",
       " 0.8809906645310055,\n",
       " 0.8933196892126855,\n",
       " 0.9067902902537803,\n",
       " 0.9167220045806893,\n",
       " 0.913011881412591,\n",
       " 0.8954316054776029,\n",
       " 0.893433846848627,\n",
       " 0.8917785611274756,\n",
       " 0.9063907385279852,\n",
       " 0.9075323148873999,\n",
       " 0.9034797188114773,\n",
       " 0.906847369071751,\n",
       " 0.9159799799470695,\n",
       " 0.9241993297348563,\n",
       " 0.9266537189075981,\n",
       " 0.9303638420756962,\n",
       " 0.93064923616555,\n",
       " 0.9194617878432848,\n",
       " 0.9184914479377823,\n",
       " 0.9147813247696841,\n",
       " 0.89982667446135,\n",
       " 0.9161512164009817,\n",
       " 0.9124981720508544,\n",
       " 0.9056487138943656,\n",
       " 0.8978289158323741,\n",
       " 0.9069615267076926,\n",
       " 0.9000549897332328,\n",
       " 0.9003974626410574,\n",
       " 0.885271575878811,\n",
       " 0.8700315314806233,\n",
       " 0.861526787602983,\n",
       " 0.8538782259949036,\n",
       " 0.8686045610313549,\n",
       " 0.8748261521901656,\n",
       " 0.8694036644829451,\n",
       " 0.8741982851924873,\n",
       " 0.8724288418353944,\n",
       " 0.8761960438214632,\n",
       " 0.8705452408423601,\n",
       " 0.8813902162568008,\n",
       " 0.8808765068950641,\n",
       " 0.883958763065484,\n",
       " 0.8843012359733085,\n",
       " 0.8880113591414067,\n",
       " 0.8848720241530159,\n",
       " 0.8905228271321193,\n",
       " 0.9069615267076926,\n",
       " 0.9103291769679663,\n",
       " 0.9062765808920437,\n",
       " 0.8847578665170743,\n",
       " 0.8862989946022845,\n",
       " 0.8858423640585186,\n",
       " 0.8911506941297973,\n",
       " 0.8872122556898162,\n",
       " 0.8929201374868903,\n",
       " 0.9249984331864466,\n",
       " 0.945832201745767,\n",
       " 0.9590174086970081,\n",
       " 0.9468025416512695,\n",
       " 0.9537661574436999,\n",
       " 0.9787096008969136,\n",
       " 0.9886983940417932,\n",
       " 0.991837729030184,\n",
       " 0.9999999999999999,\n",
       " 0.9979451625530532,\n",
       " 0.9946345911107503]"
      ]
     },
     "execution_count": 69,
     "metadata": {},
     "output_type": "execute_result"
    }
   ],
   "source": [
    "temp_input = list(x_input)\n",
    "temp_input = temp_input[0].tolist()\n",
    "temp_input"
   ]
  },
  {
   "cell_type": "code",
   "execution_count": 74,
   "metadata": {},
   "outputs": [
    {
     "name": "stdout",
     "output_type": "stream",
     "text": [
      "0 day input [0.32402483 0.32310742 0.32221252 0.32133931 0.32048708 0.31965527\n",
      " 0.31884307 0.31805003 0.31727546 0.31651887 0.31577969 0.3150574\n",
      " 0.31435147 0.31366158 0.31298697 0.31232753 0.31168273 0.31105217\n",
      " 0.31043532 0.30983207 0.30924183 0.30866444 0.30809939 0.3075465\n",
      " 0.30700549 0.30647585 0.30595741 0.30545002 0.30495319 0.30446678\n",
      " 0.30399051 0.3035242  0.30306748 0.30262023 0.30218208 0.30175295\n",
      " 0.30133262 0.30092081 0.30051735 0.30012208 0.29973477 0.29935527\n",
      " 0.29898334 0.29861885 0.29826158 0.29791149 0.29756826 0.29723188\n",
      " 0.29690212 0.29657879 0.29626179 0.29595107 0.29564634 0.29534754\n",
      " 0.29505458 0.2947672  0.29448548 0.29420906 0.29393804 0.29367217\n",
      " 0.2934114  0.29315561 0.29290465 0.29265851 0.29241705 0.29218006\n",
      " 0.29194754 0.29171956 0.29149574 0.29127613 0.29106066 0.29084927\n",
      " 0.29064173 0.29043803 0.29023826 0.29004213 0.28984967 0.28966069\n",
      " 0.28947529 0.28929326 0.28911456 0.28893918 0.28876704 0.28859806\n",
      " 0.28843209 0.28826922 0.2881093  0.28795233 0.28779817 0.28764683\n",
      " 0.28749824 0.28735232 0.28720909 0.28706837 0.28693026 0.28679463\n",
      " 0.28666142 0.28653058 0.28640217 0.28627604]\n",
      "0 day output [[0.28615212]]\n",
      "1 day input [0.32310742 0.32221252 0.32133931 0.32048708 0.31965527 0.31884307\n",
      " 0.31805003 0.31727546 0.31651887 0.31577969 0.3150574  0.31435147\n",
      " 0.31366158 0.31298697 0.31232753 0.31168273 0.31105217 0.31043532\n",
      " 0.30983207 0.30924183 0.30866444 0.30809939 0.3075465  0.30700549\n",
      " 0.30647585 0.30595741 0.30545002 0.30495319 0.30446678 0.30399051\n",
      " 0.3035242  0.30306748 0.30262023 0.30218208 0.30175295 0.30133262\n",
      " 0.30092081 0.30051735 0.30012208 0.29973477 0.29935527 0.29898334\n",
      " 0.29861885 0.29826158 0.29791149 0.29756826 0.29723188 0.29690212\n",
      " 0.29657879 0.29626179 0.29595107 0.29564634 0.29534754 0.29505458\n",
      " 0.2947672  0.29448548 0.29420906 0.29393804 0.29367217 0.2934114\n",
      " 0.29315561 0.29290465 0.29265851 0.29241705 0.29218006 0.29194754\n",
      " 0.29171956 0.29149574 0.29127613 0.29106066 0.29084927 0.29064173\n",
      " 0.29043803 0.29023826 0.29004213 0.28984967 0.28966069 0.28947529\n",
      " 0.28929326 0.28911456 0.28893918 0.28876704 0.28859806 0.28843209\n",
      " 0.28826922 0.2881093  0.28795233 0.28779817 0.28764683 0.28749824\n",
      " 0.28735232 0.28720909 0.28706837 0.28693026 0.28679463 0.28666142\n",
      " 0.28653058 0.28640217 0.28627604 0.28615212]\n",
      "1 day output [[0.28603047]]\n",
      "2 day input [0.32221252 0.32133931 0.32048708 0.31965527 0.31884307 0.31805003\n",
      " 0.31727546 0.31651887 0.31577969 0.3150574  0.31435147 0.31366158\n",
      " 0.31298697 0.31232753 0.31168273 0.31105217 0.31043532 0.30983207\n",
      " 0.30924183 0.30866444 0.30809939 0.3075465  0.30700549 0.30647585\n",
      " 0.30595741 0.30545002 0.30495319 0.30446678 0.30399051 0.3035242\n",
      " 0.30306748 0.30262023 0.30218208 0.30175295 0.30133262 0.30092081\n",
      " 0.30051735 0.30012208 0.29973477 0.29935527 0.29898334 0.29861885\n",
      " 0.29826158 0.29791149 0.29756826 0.29723188 0.29690212 0.29657879\n",
      " 0.29626179 0.29595107 0.29564634 0.29534754 0.29505458 0.2947672\n",
      " 0.29448548 0.29420906 0.29393804 0.29367217 0.2934114  0.29315561\n",
      " 0.29290465 0.29265851 0.29241705 0.29218006 0.29194754 0.29171956\n",
      " 0.29149574 0.29127613 0.29106066 0.29084927 0.29064173 0.29043803\n",
      " 0.29023826 0.29004213 0.28984967 0.28966069 0.28947529 0.28929326\n",
      " 0.28911456 0.28893918 0.28876704 0.28859806 0.28843209 0.28826922\n",
      " 0.2881093  0.28795233 0.28779817 0.28764683 0.28749824 0.28735232\n",
      " 0.28720909 0.28706837 0.28693026 0.28679463 0.28666142 0.28653058\n",
      " 0.28640217 0.28627604 0.28615212 0.28603047]\n",
      "2 day output [[0.28591105]]\n",
      "3 day input [0.32133931 0.32048708 0.31965527 0.31884307 0.31805003 0.31727546\n",
      " 0.31651887 0.31577969 0.3150574  0.31435147 0.31366158 0.31298697\n",
      " 0.31232753 0.31168273 0.31105217 0.31043532 0.30983207 0.30924183\n",
      " 0.30866444 0.30809939 0.3075465  0.30700549 0.30647585 0.30595741\n",
      " 0.30545002 0.30495319 0.30446678 0.30399051 0.3035242  0.30306748\n",
      " 0.30262023 0.30218208 0.30175295 0.30133262 0.30092081 0.30051735\n",
      " 0.30012208 0.29973477 0.29935527 0.29898334 0.29861885 0.29826158\n",
      " 0.29791149 0.29756826 0.29723188 0.29690212 0.29657879 0.29626179\n",
      " 0.29595107 0.29564634 0.29534754 0.29505458 0.2947672  0.29448548\n",
      " 0.29420906 0.29393804 0.29367217 0.2934114  0.29315561 0.29290465\n",
      " 0.29265851 0.29241705 0.29218006 0.29194754 0.29171956 0.29149574\n",
      " 0.29127613 0.29106066 0.29084927 0.29064173 0.29043803 0.29023826\n",
      " 0.29004213 0.28984967 0.28966069 0.28947529 0.28929326 0.28911456\n",
      " 0.28893918 0.28876704 0.28859806 0.28843209 0.28826922 0.2881093\n",
      " 0.28795233 0.28779817 0.28764683 0.28749824 0.28735232 0.28720909\n",
      " 0.28706837 0.28693026 0.28679463 0.28666142 0.28653058 0.28640217\n",
      " 0.28627604 0.28615212 0.28603047 0.28591105]\n",
      "3 day output [[0.28579366]]\n",
      "4 day input [0.32048708 0.31965527 0.31884307 0.31805003 0.31727546 0.31651887\n",
      " 0.31577969 0.3150574  0.31435147 0.31366158 0.31298697 0.31232753\n",
      " 0.31168273 0.31105217 0.31043532 0.30983207 0.30924183 0.30866444\n",
      " 0.30809939 0.3075465  0.30700549 0.30647585 0.30595741 0.30545002\n",
      " 0.30495319 0.30446678 0.30399051 0.3035242  0.30306748 0.30262023\n",
      " 0.30218208 0.30175295 0.30133262 0.30092081 0.30051735 0.30012208\n",
      " 0.29973477 0.29935527 0.29898334 0.29861885 0.29826158 0.29791149\n",
      " 0.29756826 0.29723188 0.29690212 0.29657879 0.29626179 0.29595107\n",
      " 0.29564634 0.29534754 0.29505458 0.2947672  0.29448548 0.29420906\n",
      " 0.29393804 0.29367217 0.2934114  0.29315561 0.29290465 0.29265851\n",
      " 0.29241705 0.29218006 0.29194754 0.29171956 0.29149574 0.29127613\n",
      " 0.29106066 0.29084927 0.29064173 0.29043803 0.29023826 0.29004213\n",
      " 0.28984967 0.28966069 0.28947529 0.28929326 0.28911456 0.28893918\n",
      " 0.28876704 0.28859806 0.28843209 0.28826922 0.2881093  0.28795233\n",
      " 0.28779817 0.28764683 0.28749824 0.28735232 0.28720909 0.28706837\n",
      " 0.28693026 0.28679463 0.28666142 0.28653058 0.28640217 0.28627604\n",
      " 0.28615212 0.28603047 0.28591105 0.28579366]\n",
      "4 day output [[0.2856784]]\n",
      "5 day input [0.31965527 0.31884307 0.31805003 0.31727546 0.31651887 0.31577969\n",
      " 0.3150574  0.31435147 0.31366158 0.31298697 0.31232753 0.31168273\n",
      " 0.31105217 0.31043532 0.30983207 0.30924183 0.30866444 0.30809939\n",
      " 0.3075465  0.30700549 0.30647585 0.30595741 0.30545002 0.30495319\n",
      " 0.30446678 0.30399051 0.3035242  0.30306748 0.30262023 0.30218208\n",
      " 0.30175295 0.30133262 0.30092081 0.30051735 0.30012208 0.29973477\n",
      " 0.29935527 0.29898334 0.29861885 0.29826158 0.29791149 0.29756826\n",
      " 0.29723188 0.29690212 0.29657879 0.29626179 0.29595107 0.29564634\n",
      " 0.29534754 0.29505458 0.2947672  0.29448548 0.29420906 0.29393804\n",
      " 0.29367217 0.2934114  0.29315561 0.29290465 0.29265851 0.29241705\n",
      " 0.29218006 0.29194754 0.29171956 0.29149574 0.29127613 0.29106066\n",
      " 0.29084927 0.29064173 0.29043803 0.29023826 0.29004213 0.28984967\n",
      " 0.28966069 0.28947529 0.28929326 0.28911456 0.28893918 0.28876704\n",
      " 0.28859806 0.28843209 0.28826922 0.2881093  0.28795233 0.28779817\n",
      " 0.28764683 0.28749824 0.28735232 0.28720909 0.28706837 0.28693026\n",
      " 0.28679463 0.28666142 0.28653058 0.28640217 0.28627604 0.28615212\n",
      " 0.28603047 0.28591105 0.28579366 0.28567839]\n",
      "5 day output [[0.2855652]]\n",
      "6 day input [0.31884307 0.31805003 0.31727546 0.31651887 0.31577969 0.3150574\n",
      " 0.31435147 0.31366158 0.31298697 0.31232753 0.31168273 0.31105217\n",
      " 0.31043532 0.30983207 0.30924183 0.30866444 0.30809939 0.3075465\n",
      " 0.30700549 0.30647585 0.30595741 0.30545002 0.30495319 0.30446678\n",
      " 0.30399051 0.3035242  0.30306748 0.30262023 0.30218208 0.30175295\n",
      " 0.30133262 0.30092081 0.30051735 0.30012208 0.29973477 0.29935527\n",
      " 0.29898334 0.29861885 0.29826158 0.29791149 0.29756826 0.29723188\n",
      " 0.29690212 0.29657879 0.29626179 0.29595107 0.29564634 0.29534754\n",
      " 0.29505458 0.2947672  0.29448548 0.29420906 0.29393804 0.29367217\n",
      " 0.2934114  0.29315561 0.29290465 0.29265851 0.29241705 0.29218006\n",
      " 0.29194754 0.29171956 0.29149574 0.29127613 0.29106066 0.29084927\n",
      " 0.29064173 0.29043803 0.29023826 0.29004213 0.28984967 0.28966069\n",
      " 0.28947529 0.28929326 0.28911456 0.28893918 0.28876704 0.28859806\n",
      " 0.28843209 0.28826922 0.2881093  0.28795233 0.28779817 0.28764683\n",
      " 0.28749824 0.28735232 0.28720909 0.28706837 0.28693026 0.28679463\n",
      " 0.28666142 0.28653058 0.28640217 0.28627604 0.28615212 0.28603047\n",
      " 0.28591105 0.28579366 0.28567839 0.2855652 ]\n",
      "6 day output [[0.285454]]\n",
      "7 day input [0.31805003 0.31727546 0.31651887 0.31577969 0.3150574  0.31435147\n",
      " 0.31366158 0.31298697 0.31232753 0.31168273 0.31105217 0.31043532\n",
      " 0.30983207 0.30924183 0.30866444 0.30809939 0.3075465  0.30700549\n",
      " 0.30647585 0.30595741 0.30545002 0.30495319 0.30446678 0.30399051\n",
      " 0.3035242  0.30306748 0.30262023 0.30218208 0.30175295 0.30133262\n",
      " 0.30092081 0.30051735 0.30012208 0.29973477 0.29935527 0.29898334\n",
      " 0.29861885 0.29826158 0.29791149 0.29756826 0.29723188 0.29690212\n",
      " 0.29657879 0.29626179 0.29595107 0.29564634 0.29534754 0.29505458\n",
      " 0.2947672  0.29448548 0.29420906 0.29393804 0.29367217 0.2934114\n",
      " 0.29315561 0.29290465 0.29265851 0.29241705 0.29218006 0.29194754\n",
      " 0.29171956 0.29149574 0.29127613 0.29106066 0.29084927 0.29064173\n",
      " 0.29043803 0.29023826 0.29004213 0.28984967 0.28966069 0.28947529\n",
      " 0.28929326 0.28911456 0.28893918 0.28876704 0.28859806 0.28843209\n",
      " 0.28826922 0.2881093  0.28795233 0.28779817 0.28764683 0.28749824\n",
      " 0.28735232 0.28720909 0.28706837 0.28693026 0.28679463 0.28666142\n",
      " 0.28653058 0.28640217 0.28627604 0.28615212 0.28603047 0.28591105\n",
      " 0.28579366 0.28567839 0.2855652  0.28545401]\n",
      "7 day output [[0.28534484]]\n",
      "8 day input [0.31727546 0.31651887 0.31577969 0.3150574  0.31435147 0.31366158\n",
      " 0.31298697 0.31232753 0.31168273 0.31105217 0.31043532 0.30983207\n",
      " 0.30924183 0.30866444 0.30809939 0.3075465  0.30700549 0.30647585\n",
      " 0.30595741 0.30545002 0.30495319 0.30446678 0.30399051 0.3035242\n",
      " 0.30306748 0.30262023 0.30218208 0.30175295 0.30133262 0.30092081\n",
      " 0.30051735 0.30012208 0.29973477 0.29935527 0.29898334 0.29861885\n",
      " 0.29826158 0.29791149 0.29756826 0.29723188 0.29690212 0.29657879\n",
      " 0.29626179 0.29595107 0.29564634 0.29534754 0.29505458 0.2947672\n",
      " 0.29448548 0.29420906 0.29393804 0.29367217 0.2934114  0.29315561\n",
      " 0.29290465 0.29265851 0.29241705 0.29218006 0.29194754 0.29171956\n",
      " 0.29149574 0.29127613 0.29106066 0.29084927 0.29064173 0.29043803\n",
      " 0.29023826 0.29004213 0.28984967 0.28966069 0.28947529 0.28929326\n",
      " 0.28911456 0.28893918 0.28876704 0.28859806 0.28843209 0.28826922\n",
      " 0.2881093  0.28795233 0.28779817 0.28764683 0.28749824 0.28735232\n",
      " 0.28720909 0.28706837 0.28693026 0.28679463 0.28666142 0.28653058\n",
      " 0.28640217 0.28627604 0.28615212 0.28603047 0.28591105 0.28579366\n",
      " 0.28567839 0.2855652  0.28545401 0.28534484]\n",
      "8 day output [[0.28523758]]\n",
      "9 day input [0.31651887 0.31577969 0.3150574  0.31435147 0.31366158 0.31298697\n",
      " 0.31232753 0.31168273 0.31105217 0.31043532 0.30983207 0.30924183\n",
      " 0.30866444 0.30809939 0.3075465  0.30700549 0.30647585 0.30595741\n",
      " 0.30545002 0.30495319 0.30446678 0.30399051 0.3035242  0.30306748\n",
      " 0.30262023 0.30218208 0.30175295 0.30133262 0.30092081 0.30051735\n",
      " 0.30012208 0.29973477 0.29935527 0.29898334 0.29861885 0.29826158\n",
      " 0.29791149 0.29756826 0.29723188 0.29690212 0.29657879 0.29626179\n",
      " 0.29595107 0.29564634 0.29534754 0.29505458 0.2947672  0.29448548\n",
      " 0.29420906 0.29393804 0.29367217 0.2934114  0.29315561 0.29290465\n",
      " 0.29265851 0.29241705 0.29218006 0.29194754 0.29171956 0.29149574\n",
      " 0.29127613 0.29106066 0.29084927 0.29064173 0.29043803 0.29023826\n",
      " 0.29004213 0.28984967 0.28966069 0.28947529 0.28929326 0.28911456\n",
      " 0.28893918 0.28876704 0.28859806 0.28843209 0.28826922 0.2881093\n",
      " 0.28795233 0.28779817 0.28764683 0.28749824 0.28735232 0.28720909\n",
      " 0.28706837 0.28693026 0.28679463 0.28666142 0.28653058 0.28640217\n",
      " 0.28627604 0.28615212 0.28603047 0.28591105 0.28579366 0.28567839\n",
      " 0.2855652  0.28545401 0.28534484 0.28523758]\n",
      "9 day output [[0.2851322]]\n",
      "10 day input [0.31577969 0.3150574  0.31435147 0.31366158 0.31298697 0.31232753\n",
      " 0.31168273 0.31105217 0.31043532 0.30983207 0.30924183 0.30866444\n",
      " 0.30809939 0.3075465  0.30700549 0.30647585 0.30595741 0.30545002\n",
      " 0.30495319 0.30446678 0.30399051 0.3035242  0.30306748 0.30262023\n",
      " 0.30218208 0.30175295 0.30133262 0.30092081 0.30051735 0.30012208\n",
      " 0.29973477 0.29935527 0.29898334 0.29861885 0.29826158 0.29791149\n",
      " 0.29756826 0.29723188 0.29690212 0.29657879 0.29626179 0.29595107\n",
      " 0.29564634 0.29534754 0.29505458 0.2947672  0.29448548 0.29420906\n",
      " 0.29393804 0.29367217 0.2934114  0.29315561 0.29290465 0.29265851\n",
      " 0.29241705 0.29218006 0.29194754 0.29171956 0.29149574 0.29127613\n",
      " 0.29106066 0.29084927 0.29064173 0.29043803 0.29023826 0.29004213\n",
      " 0.28984967 0.28966069 0.28947529 0.28929326 0.28911456 0.28893918\n",
      " 0.28876704 0.28859806 0.28843209 0.28826922 0.2881093  0.28795233\n",
      " 0.28779817 0.28764683 0.28749824 0.28735232 0.28720909 0.28706837\n",
      " 0.28693026 0.28679463 0.28666142 0.28653058 0.28640217 0.28627604\n",
      " 0.28615212 0.28603047 0.28591105 0.28579366 0.28567839 0.2855652\n",
      " 0.28545401 0.28534484 0.28523758 0.2851322 ]\n",
      "10 day output [[0.28502876]]\n",
      "11 day input [0.3150574  0.31435147 0.31366158 0.31298697 0.31232753 0.31168273\n",
      " 0.31105217 0.31043532 0.30983207 0.30924183 0.30866444 0.30809939\n",
      " 0.3075465  0.30700549 0.30647585 0.30595741 0.30545002 0.30495319\n",
      " 0.30446678 0.30399051 0.3035242  0.30306748 0.30262023 0.30218208\n",
      " 0.30175295 0.30133262 0.30092081 0.30051735 0.30012208 0.29973477\n",
      " 0.29935527 0.29898334 0.29861885 0.29826158 0.29791149 0.29756826\n",
      " 0.29723188 0.29690212 0.29657879 0.29626179 0.29595107 0.29564634\n",
      " 0.29534754 0.29505458 0.2947672  0.29448548 0.29420906 0.29393804\n",
      " 0.29367217 0.2934114  0.29315561 0.29290465 0.29265851 0.29241705\n",
      " 0.29218006 0.29194754 0.29171956 0.29149574 0.29127613 0.29106066\n",
      " 0.29084927 0.29064173 0.29043803 0.29023826 0.29004213 0.28984967\n",
      " 0.28966069 0.28947529 0.28929326 0.28911456 0.28893918 0.28876704\n",
      " 0.28859806 0.28843209 0.28826922 0.2881093  0.28795233 0.28779817\n",
      " 0.28764683 0.28749824 0.28735232 0.28720909 0.28706837 0.28693026\n",
      " 0.28679463 0.28666142 0.28653058 0.28640217 0.28627604 0.28615212\n",
      " 0.28603047 0.28591105 0.28579366 0.28567839 0.2855652  0.28545401\n",
      " 0.28534484 0.28523758 0.2851322  0.28502876]\n",
      "11 day output [[0.28492704]]\n",
      "12 day input [0.31435147 0.31366158 0.31298697 0.31232753 0.31168273 0.31105217\n",
      " 0.31043532 0.30983207 0.30924183 0.30866444 0.30809939 0.3075465\n",
      " 0.30700549 0.30647585 0.30595741 0.30545002 0.30495319 0.30446678\n",
      " 0.30399051 0.3035242  0.30306748 0.30262023 0.30218208 0.30175295\n",
      " 0.30133262 0.30092081 0.30051735 0.30012208 0.29973477 0.29935527\n",
      " 0.29898334 0.29861885 0.29826158 0.29791149 0.29756826 0.29723188\n",
      " 0.29690212 0.29657879 0.29626179 0.29595107 0.29564634 0.29534754\n",
      " 0.29505458 0.2947672  0.29448548 0.29420906 0.29393804 0.29367217\n",
      " 0.2934114  0.29315561 0.29290465 0.29265851 0.29241705 0.29218006\n",
      " 0.29194754 0.29171956 0.29149574 0.29127613 0.29106066 0.29084927\n",
      " 0.29064173 0.29043803 0.29023826 0.29004213 0.28984967 0.28966069\n",
      " 0.28947529 0.28929326 0.28911456 0.28893918 0.28876704 0.28859806\n",
      " 0.28843209 0.28826922 0.2881093  0.28795233 0.28779817 0.28764683\n",
      " 0.28749824 0.28735232 0.28720909 0.28706837 0.28693026 0.28679463\n",
      " 0.28666142 0.28653058 0.28640217 0.28627604 0.28615212 0.28603047\n",
      " 0.28591105 0.28579366 0.28567839 0.2855652  0.28545401 0.28534484\n",
      " 0.28523758 0.2851322  0.28502876 0.28492704]\n",
      "12 day output [[0.2848272]]\n",
      "13 day input [0.31366158 0.31298697 0.31232753 0.31168273 0.31105217 0.31043532\n",
      " 0.30983207 0.30924183 0.30866444 0.30809939 0.3075465  0.30700549\n",
      " 0.30647585 0.30595741 0.30545002 0.30495319 0.30446678 0.30399051\n",
      " 0.3035242  0.30306748 0.30262023 0.30218208 0.30175295 0.30133262\n",
      " 0.30092081 0.30051735 0.30012208 0.29973477 0.29935527 0.29898334\n",
      " 0.29861885 0.29826158 0.29791149 0.29756826 0.29723188 0.29690212\n",
      " 0.29657879 0.29626179 0.29595107 0.29564634 0.29534754 0.29505458\n",
      " 0.2947672  0.29448548 0.29420906 0.29393804 0.29367217 0.2934114\n",
      " 0.29315561 0.29290465 0.29265851 0.29241705 0.29218006 0.29194754\n",
      " 0.29171956 0.29149574 0.29127613 0.29106066 0.29084927 0.29064173\n",
      " 0.29043803 0.29023826 0.29004213 0.28984967 0.28966069 0.28947529\n",
      " 0.28929326 0.28911456 0.28893918 0.28876704 0.28859806 0.28843209\n",
      " 0.28826922 0.2881093  0.28795233 0.28779817 0.28764683 0.28749824\n",
      " 0.28735232 0.28720909 0.28706837 0.28693026 0.28679463 0.28666142\n",
      " 0.28653058 0.28640217 0.28627604 0.28615212 0.28603047 0.28591105\n",
      " 0.28579366 0.28567839 0.2855652  0.28545401 0.28534484 0.28523758\n",
      " 0.2851322  0.28502876 0.28492704 0.2848272 ]\n",
      "13 day output [[0.28472918]]\n",
      "14 day input [0.31298697 0.31232753 0.31168273 0.31105217 0.31043532 0.30983207\n",
      " 0.30924183 0.30866444 0.30809939 0.3075465  0.30700549 0.30647585\n",
      " 0.30595741 0.30545002 0.30495319 0.30446678 0.30399051 0.3035242\n",
      " 0.30306748 0.30262023 0.30218208 0.30175295 0.30133262 0.30092081\n",
      " 0.30051735 0.30012208 0.29973477 0.29935527 0.29898334 0.29861885\n",
      " 0.29826158 0.29791149 0.29756826 0.29723188 0.29690212 0.29657879\n",
      " 0.29626179 0.29595107 0.29564634 0.29534754 0.29505458 0.2947672\n",
      " 0.29448548 0.29420906 0.29393804 0.29367217 0.2934114  0.29315561\n",
      " 0.29290465 0.29265851 0.29241705 0.29218006 0.29194754 0.29171956\n",
      " 0.29149574 0.29127613 0.29106066 0.29084927 0.29064173 0.29043803\n",
      " 0.29023826 0.29004213 0.28984967 0.28966069 0.28947529 0.28929326\n",
      " 0.28911456 0.28893918 0.28876704 0.28859806 0.28843209 0.28826922\n",
      " 0.2881093  0.28795233 0.28779817 0.28764683 0.28749824 0.28735232\n",
      " 0.28720909 0.28706837 0.28693026 0.28679463 0.28666142 0.28653058\n",
      " 0.28640217 0.28627604 0.28615212 0.28603047 0.28591105 0.28579366\n",
      " 0.28567839 0.2855652  0.28545401 0.28534484 0.28523758 0.2851322\n",
      " 0.28502876 0.28492704 0.2848272  0.28472918]\n",
      "14 day output [[0.28463277]]\n",
      "15 day input [0.31232753 0.31168273 0.31105217 0.31043532 0.30983207 0.30924183\n",
      " 0.30866444 0.30809939 0.3075465  0.30700549 0.30647585 0.30595741\n",
      " 0.30545002 0.30495319 0.30446678 0.30399051 0.3035242  0.30306748\n",
      " 0.30262023 0.30218208 0.30175295 0.30133262 0.30092081 0.30051735\n",
      " 0.30012208 0.29973477 0.29935527 0.29898334 0.29861885 0.29826158\n",
      " 0.29791149 0.29756826 0.29723188 0.29690212 0.29657879 0.29626179\n",
      " 0.29595107 0.29564634 0.29534754 0.29505458 0.2947672  0.29448548\n",
      " 0.29420906 0.29393804 0.29367217 0.2934114  0.29315561 0.29290465\n",
      " 0.29265851 0.29241705 0.29218006 0.29194754 0.29171956 0.29149574\n",
      " 0.29127613 0.29106066 0.29084927 0.29064173 0.29043803 0.29023826\n",
      " 0.29004213 0.28984967 0.28966069 0.28947529 0.28929326 0.28911456\n",
      " 0.28893918 0.28876704 0.28859806 0.28843209 0.28826922 0.2881093\n",
      " 0.28795233 0.28779817 0.28764683 0.28749824 0.28735232 0.28720909\n",
      " 0.28706837 0.28693026 0.28679463 0.28666142 0.28653058 0.28640217\n",
      " 0.28627604 0.28615212 0.28603047 0.28591105 0.28579366 0.28567839\n",
      " 0.2855652  0.28545401 0.28534484 0.28523758 0.2851322  0.28502876\n",
      " 0.28492704 0.2848272  0.28472918 0.28463277]\n",
      "15 day output [[0.28453815]]\n",
      "16 day input [0.31168273 0.31105217 0.31043532 0.30983207 0.30924183 0.30866444\n",
      " 0.30809939 0.3075465  0.30700549 0.30647585 0.30595741 0.30545002\n",
      " 0.30495319 0.30446678 0.30399051 0.3035242  0.30306748 0.30262023\n",
      " 0.30218208 0.30175295 0.30133262 0.30092081 0.30051735 0.30012208\n",
      " 0.29973477 0.29935527 0.29898334 0.29861885 0.29826158 0.29791149\n",
      " 0.29756826 0.29723188 0.29690212 0.29657879 0.29626179 0.29595107\n",
      " 0.29564634 0.29534754 0.29505458 0.2947672  0.29448548 0.29420906\n",
      " 0.29393804 0.29367217 0.2934114  0.29315561 0.29290465 0.29265851\n",
      " 0.29241705 0.29218006 0.29194754 0.29171956 0.29149574 0.29127613\n",
      " 0.29106066 0.29084927 0.29064173 0.29043803 0.29023826 0.29004213\n",
      " 0.28984967 0.28966069 0.28947529 0.28929326 0.28911456 0.28893918\n",
      " 0.28876704 0.28859806 0.28843209 0.28826922 0.2881093  0.28795233\n",
      " 0.28779817 0.28764683 0.28749824 0.28735232 0.28720909 0.28706837\n",
      " 0.28693026 0.28679463 0.28666142 0.28653058 0.28640217 0.28627604\n",
      " 0.28615212 0.28603047 0.28591105 0.28579366 0.28567839 0.2855652\n",
      " 0.28545401 0.28534484 0.28523758 0.2851322  0.28502876 0.28492704\n",
      " 0.2848272  0.28472918 0.28463277 0.28453815]\n",
      "16 day output [[0.28444517]]\n",
      "17 day input [0.31105217 0.31043532 0.30983207 0.30924183 0.30866444 0.30809939\n",
      " 0.3075465  0.30700549 0.30647585 0.30595741 0.30545002 0.30495319\n",
      " 0.30446678 0.30399051 0.3035242  0.30306748 0.30262023 0.30218208\n",
      " 0.30175295 0.30133262 0.30092081 0.30051735 0.30012208 0.29973477\n",
      " 0.29935527 0.29898334 0.29861885 0.29826158 0.29791149 0.29756826\n",
      " 0.29723188 0.29690212 0.29657879 0.29626179 0.29595107 0.29564634\n",
      " 0.29534754 0.29505458 0.2947672  0.29448548 0.29420906 0.29393804\n",
      " 0.29367217 0.2934114  0.29315561 0.29290465 0.29265851 0.29241705\n",
      " 0.29218006 0.29194754 0.29171956 0.29149574 0.29127613 0.29106066\n",
      " 0.29084927 0.29064173 0.29043803 0.29023826 0.29004213 0.28984967\n",
      " 0.28966069 0.28947529 0.28929326 0.28911456 0.28893918 0.28876704\n",
      " 0.28859806 0.28843209 0.28826922 0.2881093  0.28795233 0.28779817\n",
      " 0.28764683 0.28749824 0.28735232 0.28720909 0.28706837 0.28693026\n",
      " 0.28679463 0.28666142 0.28653058 0.28640217 0.28627604 0.28615212\n",
      " 0.28603047 0.28591105 0.28579366 0.28567839 0.2855652  0.28545401\n",
      " 0.28534484 0.28523758 0.2851322  0.28502876 0.28492704 0.2848272\n",
      " 0.28472918 0.28463277 0.28453815 0.28444517]\n",
      "17 day output [[0.28435385]]\n",
      "18 day input [0.31043532 0.30983207 0.30924183 0.30866444 0.30809939 0.3075465\n",
      " 0.30700549 0.30647585 0.30595741 0.30545002 0.30495319 0.30446678\n",
      " 0.30399051 0.3035242  0.30306748 0.30262023 0.30218208 0.30175295\n",
      " 0.30133262 0.30092081 0.30051735 0.30012208 0.29973477 0.29935527\n",
      " 0.29898334 0.29861885 0.29826158 0.29791149 0.29756826 0.29723188\n",
      " 0.29690212 0.29657879 0.29626179 0.29595107 0.29564634 0.29534754\n",
      " 0.29505458 0.2947672  0.29448548 0.29420906 0.29393804 0.29367217\n",
      " 0.2934114  0.29315561 0.29290465 0.29265851 0.29241705 0.29218006\n",
      " 0.29194754 0.29171956 0.29149574 0.29127613 0.29106066 0.29084927\n",
      " 0.29064173 0.29043803 0.29023826 0.29004213 0.28984967 0.28966069\n",
      " 0.28947529 0.28929326 0.28911456 0.28893918 0.28876704 0.28859806\n",
      " 0.28843209 0.28826922 0.2881093  0.28795233 0.28779817 0.28764683\n",
      " 0.28749824 0.28735232 0.28720909 0.28706837 0.28693026 0.28679463\n",
      " 0.28666142 0.28653058 0.28640217 0.28627604 0.28615212 0.28603047\n",
      " 0.28591105 0.28579366 0.28567839 0.2855652  0.28545401 0.28534484\n",
      " 0.28523758 0.2851322  0.28502876 0.28492704 0.2848272  0.28472918\n",
      " 0.28463277 0.28453815 0.28444517 0.28435385]\n",
      "18 day output [[0.28426415]]\n",
      "19 day input [0.30983207 0.30924183 0.30866444 0.30809939 0.3075465  0.30700549\n",
      " 0.30647585 0.30595741 0.30545002 0.30495319 0.30446678 0.30399051\n",
      " 0.3035242  0.30306748 0.30262023 0.30218208 0.30175295 0.30133262\n",
      " 0.30092081 0.30051735 0.30012208 0.29973477 0.29935527 0.29898334\n",
      " 0.29861885 0.29826158 0.29791149 0.29756826 0.29723188 0.29690212\n",
      " 0.29657879 0.29626179 0.29595107 0.29564634 0.29534754 0.29505458\n",
      " 0.2947672  0.29448548 0.29420906 0.29393804 0.29367217 0.2934114\n",
      " 0.29315561 0.29290465 0.29265851 0.29241705 0.29218006 0.29194754\n",
      " 0.29171956 0.29149574 0.29127613 0.29106066 0.29084927 0.29064173\n",
      " 0.29043803 0.29023826 0.29004213 0.28984967 0.28966069 0.28947529\n",
      " 0.28929326 0.28911456 0.28893918 0.28876704 0.28859806 0.28843209\n",
      " 0.28826922 0.2881093  0.28795233 0.28779817 0.28764683 0.28749824\n",
      " 0.28735232 0.28720909 0.28706837 0.28693026 0.28679463 0.28666142\n",
      " 0.28653058 0.28640217 0.28627604 0.28615212 0.28603047 0.28591105\n",
      " 0.28579366 0.28567839 0.2855652  0.28545401 0.28534484 0.28523758\n",
      " 0.2851322  0.28502876 0.28492704 0.2848272  0.28472918 0.28463277\n",
      " 0.28453815 0.28444517 0.28435385 0.28426415]\n",
      "19 day output [[0.28417593]]\n",
      "20 day input [0.30924183 0.30866444 0.30809939 0.3075465  0.30700549 0.30647585\n",
      " 0.30595741 0.30545002 0.30495319 0.30446678 0.30399051 0.3035242\n",
      " 0.30306748 0.30262023 0.30218208 0.30175295 0.30133262 0.30092081\n",
      " 0.30051735 0.30012208 0.29973477 0.29935527 0.29898334 0.29861885\n",
      " 0.29826158 0.29791149 0.29756826 0.29723188 0.29690212 0.29657879\n",
      " 0.29626179 0.29595107 0.29564634 0.29534754 0.29505458 0.2947672\n",
      " 0.29448548 0.29420906 0.29393804 0.29367217 0.2934114  0.29315561\n",
      " 0.29290465 0.29265851 0.29241705 0.29218006 0.29194754 0.29171956\n",
      " 0.29149574 0.29127613 0.29106066 0.29084927 0.29064173 0.29043803\n",
      " 0.29023826 0.29004213 0.28984967 0.28966069 0.28947529 0.28929326\n",
      " 0.28911456 0.28893918 0.28876704 0.28859806 0.28843209 0.28826922\n",
      " 0.2881093  0.28795233 0.28779817 0.28764683 0.28749824 0.28735232\n",
      " 0.28720909 0.28706837 0.28693026 0.28679463 0.28666142 0.28653058\n",
      " 0.28640217 0.28627604 0.28615212 0.28603047 0.28591105 0.28579366\n",
      " 0.28567839 0.2855652  0.28545401 0.28534484 0.28523758 0.2851322\n",
      " 0.28502876 0.28492704 0.2848272  0.28472918 0.28463277 0.28453815\n",
      " 0.28444517 0.28435385 0.28426415 0.28417593]\n",
      "20 day output [[0.28408936]]\n",
      "21 day input [0.30866444 0.30809939 0.3075465  0.30700549 0.30647585 0.30595741\n",
      " 0.30545002 0.30495319 0.30446678 0.30399051 0.3035242  0.30306748\n",
      " 0.30262023 0.30218208 0.30175295 0.30133262 0.30092081 0.30051735\n",
      " 0.30012208 0.29973477 0.29935527 0.29898334 0.29861885 0.29826158\n",
      " 0.29791149 0.29756826 0.29723188 0.29690212 0.29657879 0.29626179\n",
      " 0.29595107 0.29564634 0.29534754 0.29505458 0.2947672  0.29448548\n",
      " 0.29420906 0.29393804 0.29367217 0.2934114  0.29315561 0.29290465\n",
      " 0.29265851 0.29241705 0.29218006 0.29194754 0.29171956 0.29149574\n",
      " 0.29127613 0.29106066 0.29084927 0.29064173 0.29043803 0.29023826\n",
      " 0.29004213 0.28984967 0.28966069 0.28947529 0.28929326 0.28911456\n",
      " 0.28893918 0.28876704 0.28859806 0.28843209 0.28826922 0.2881093\n",
      " 0.28795233 0.28779817 0.28764683 0.28749824 0.28735232 0.28720909\n",
      " 0.28706837 0.28693026 0.28679463 0.28666142 0.28653058 0.28640217\n",
      " 0.28627604 0.28615212 0.28603047 0.28591105 0.28579366 0.28567839\n",
      " 0.2855652  0.28545401 0.28534484 0.28523758 0.2851322  0.28502876\n",
      " 0.28492704 0.2848272  0.28472918 0.28463277 0.28453815 0.28444517\n",
      " 0.28435385 0.28426415 0.28417593 0.28408936]\n",
      "21 day output [[0.28400433]]\n",
      "22 day input [0.30809939 0.3075465  0.30700549 0.30647585 0.30595741 0.30545002\n",
      " 0.30495319 0.30446678 0.30399051 0.3035242  0.30306748 0.30262023\n",
      " 0.30218208 0.30175295 0.30133262 0.30092081 0.30051735 0.30012208\n",
      " 0.29973477 0.29935527 0.29898334 0.29861885 0.29826158 0.29791149\n",
      " 0.29756826 0.29723188 0.29690212 0.29657879 0.29626179 0.29595107\n",
      " 0.29564634 0.29534754 0.29505458 0.2947672  0.29448548 0.29420906\n",
      " 0.29393804 0.29367217 0.2934114  0.29315561 0.29290465 0.29265851\n",
      " 0.29241705 0.29218006 0.29194754 0.29171956 0.29149574 0.29127613\n",
      " 0.29106066 0.29084927 0.29064173 0.29043803 0.29023826 0.29004213\n",
      " 0.28984967 0.28966069 0.28947529 0.28929326 0.28911456 0.28893918\n",
      " 0.28876704 0.28859806 0.28843209 0.28826922 0.2881093  0.28795233\n",
      " 0.28779817 0.28764683 0.28749824 0.28735232 0.28720909 0.28706837\n",
      " 0.28693026 0.28679463 0.28666142 0.28653058 0.28640217 0.28627604\n",
      " 0.28615212 0.28603047 0.28591105 0.28579366 0.28567839 0.2855652\n",
      " 0.28545401 0.28534484 0.28523758 0.2851322  0.28502876 0.28492704\n",
      " 0.2848272  0.28472918 0.28463277 0.28453815 0.28444517 0.28435385\n",
      " 0.28426415 0.28417593 0.28408936 0.28400433]\n",
      "22 day output [[0.28392076]]\n",
      "23 day input [0.3075465  0.30700549 0.30647585 0.30595741 0.30545002 0.30495319\n",
      " 0.30446678 0.30399051 0.3035242  0.30306748 0.30262023 0.30218208\n",
      " 0.30175295 0.30133262 0.30092081 0.30051735 0.30012208 0.29973477\n",
      " 0.29935527 0.29898334 0.29861885 0.29826158 0.29791149 0.29756826\n",
      " 0.29723188 0.29690212 0.29657879 0.29626179 0.29595107 0.29564634\n",
      " 0.29534754 0.29505458 0.2947672  0.29448548 0.29420906 0.29393804\n",
      " 0.29367217 0.2934114  0.29315561 0.29290465 0.29265851 0.29241705\n",
      " 0.29218006 0.29194754 0.29171956 0.29149574 0.29127613 0.29106066\n",
      " 0.29084927 0.29064173 0.29043803 0.29023826 0.29004213 0.28984967\n",
      " 0.28966069 0.28947529 0.28929326 0.28911456 0.28893918 0.28876704\n",
      " 0.28859806 0.28843209 0.28826922 0.2881093  0.28795233 0.28779817\n",
      " 0.28764683 0.28749824 0.28735232 0.28720909 0.28706837 0.28693026\n",
      " 0.28679463 0.28666142 0.28653058 0.28640217 0.28627604 0.28615212\n",
      " 0.28603047 0.28591105 0.28579366 0.28567839 0.2855652  0.28545401\n",
      " 0.28534484 0.28523758 0.2851322  0.28502876 0.28492704 0.2848272\n",
      " 0.28472918 0.28463277 0.28453815 0.28444517 0.28435385 0.28426415\n",
      " 0.28417593 0.28408936 0.28400433 0.28392076]\n",
      "23 day output [[0.2838386]]\n",
      "24 day input [0.30700549 0.30647585 0.30595741 0.30545002 0.30495319 0.30446678\n",
      " 0.30399051 0.3035242  0.30306748 0.30262023 0.30218208 0.30175295\n",
      " 0.30133262 0.30092081 0.30051735 0.30012208 0.29973477 0.29935527\n",
      " 0.29898334 0.29861885 0.29826158 0.29791149 0.29756826 0.29723188\n",
      " 0.29690212 0.29657879 0.29626179 0.29595107 0.29564634 0.29534754\n",
      " 0.29505458 0.2947672  0.29448548 0.29420906 0.29393804 0.29367217\n",
      " 0.2934114  0.29315561 0.29290465 0.29265851 0.29241705 0.29218006\n",
      " 0.29194754 0.29171956 0.29149574 0.29127613 0.29106066 0.29084927\n",
      " 0.29064173 0.29043803 0.29023826 0.29004213 0.28984967 0.28966069\n",
      " 0.28947529 0.28929326 0.28911456 0.28893918 0.28876704 0.28859806\n",
      " 0.28843209 0.28826922 0.2881093  0.28795233 0.28779817 0.28764683\n",
      " 0.28749824 0.28735232 0.28720909 0.28706837 0.28693026 0.28679463\n",
      " 0.28666142 0.28653058 0.28640217 0.28627604 0.28615212 0.28603047\n",
      " 0.28591105 0.28579366 0.28567839 0.2855652  0.28545401 0.28534484\n",
      " 0.28523758 0.2851322  0.28502876 0.28492704 0.2848272  0.28472918\n",
      " 0.28463277 0.28453815 0.28444517 0.28435385 0.28426415 0.28417593\n",
      " 0.28408936 0.28400433 0.28392076 0.2838386 ]\n",
      "24 day output [[0.28375795]]\n",
      "25 day input [0.30647585 0.30595741 0.30545002 0.30495319 0.30446678 0.30399051\n",
      " 0.3035242  0.30306748 0.30262023 0.30218208 0.30175295 0.30133262\n",
      " 0.30092081 0.30051735 0.30012208 0.29973477 0.29935527 0.29898334\n",
      " 0.29861885 0.29826158 0.29791149 0.29756826 0.29723188 0.29690212\n",
      " 0.29657879 0.29626179 0.29595107 0.29564634 0.29534754 0.29505458\n",
      " 0.2947672  0.29448548 0.29420906 0.29393804 0.29367217 0.2934114\n",
      " 0.29315561 0.29290465 0.29265851 0.29241705 0.29218006 0.29194754\n",
      " 0.29171956 0.29149574 0.29127613 0.29106066 0.29084927 0.29064173\n",
      " 0.29043803 0.29023826 0.29004213 0.28984967 0.28966069 0.28947529\n",
      " 0.28929326 0.28911456 0.28893918 0.28876704 0.28859806 0.28843209\n",
      " 0.28826922 0.2881093  0.28795233 0.28779817 0.28764683 0.28749824\n",
      " 0.28735232 0.28720909 0.28706837 0.28693026 0.28679463 0.28666142\n",
      " 0.28653058 0.28640217 0.28627604 0.28615212 0.28603047 0.28591105\n",
      " 0.28579366 0.28567839 0.2855652  0.28545401 0.28534484 0.28523758\n",
      " 0.2851322  0.28502876 0.28492704 0.2848272  0.28472918 0.28463277\n",
      " 0.28453815 0.28444517 0.28435385 0.28426415 0.28417593 0.28408936\n",
      " 0.28400433 0.28392076 0.2838386  0.28375795]\n",
      "25 day output [[0.2836787]]\n",
      "26 day input [0.30595741 0.30545002 0.30495319 0.30446678 0.30399051 0.3035242\n",
      " 0.30306748 0.30262023 0.30218208 0.30175295 0.30133262 0.30092081\n",
      " 0.30051735 0.30012208 0.29973477 0.29935527 0.29898334 0.29861885\n",
      " 0.29826158 0.29791149 0.29756826 0.29723188 0.29690212 0.29657879\n",
      " 0.29626179 0.29595107 0.29564634 0.29534754 0.29505458 0.2947672\n",
      " 0.29448548 0.29420906 0.29393804 0.29367217 0.2934114  0.29315561\n",
      " 0.29290465 0.29265851 0.29241705 0.29218006 0.29194754 0.29171956\n",
      " 0.29149574 0.29127613 0.29106066 0.29084927 0.29064173 0.29043803\n",
      " 0.29023826 0.29004213 0.28984967 0.28966069 0.28947529 0.28929326\n",
      " 0.28911456 0.28893918 0.28876704 0.28859806 0.28843209 0.28826922\n",
      " 0.2881093  0.28795233 0.28779817 0.28764683 0.28749824 0.28735232\n",
      " 0.28720909 0.28706837 0.28693026 0.28679463 0.28666142 0.28653058\n",
      " 0.28640217 0.28627604 0.28615212 0.28603047 0.28591105 0.28579366\n",
      " 0.28567839 0.2855652  0.28545401 0.28534484 0.28523758 0.2851322\n",
      " 0.28502876 0.28492704 0.2848272  0.28472918 0.28463277 0.28453815\n",
      " 0.28444517 0.28435385 0.28426415 0.28417593 0.28408936 0.28400433\n",
      " 0.28392076 0.2838386  0.28375795 0.28367871]\n",
      "26 day output [[0.28360084]]\n",
      "27 day input [0.30545002 0.30495319 0.30446678 0.30399051 0.3035242  0.30306748\n",
      " 0.30262023 0.30218208 0.30175295 0.30133262 0.30092081 0.30051735\n",
      " 0.30012208 0.29973477 0.29935527 0.29898334 0.29861885 0.29826158\n",
      " 0.29791149 0.29756826 0.29723188 0.29690212 0.29657879 0.29626179\n",
      " 0.29595107 0.29564634 0.29534754 0.29505458 0.2947672  0.29448548\n",
      " 0.29420906 0.29393804 0.29367217 0.2934114  0.29315561 0.29290465\n",
      " 0.29265851 0.29241705 0.29218006 0.29194754 0.29171956 0.29149574\n",
      " 0.29127613 0.29106066 0.29084927 0.29064173 0.29043803 0.29023826\n",
      " 0.29004213 0.28984967 0.28966069 0.28947529 0.28929326 0.28911456\n",
      " 0.28893918 0.28876704 0.28859806 0.28843209 0.28826922 0.2881093\n",
      " 0.28795233 0.28779817 0.28764683 0.28749824 0.28735232 0.28720909\n",
      " 0.28706837 0.28693026 0.28679463 0.28666142 0.28653058 0.28640217\n",
      " 0.28627604 0.28615212 0.28603047 0.28591105 0.28579366 0.28567839\n",
      " 0.2855652  0.28545401 0.28534484 0.28523758 0.2851322  0.28502876\n",
      " 0.28492704 0.2848272  0.28472918 0.28463277 0.28453815 0.28444517\n",
      " 0.28435385 0.28426415 0.28417593 0.28408936 0.28400433 0.28392076\n",
      " 0.2838386  0.28375795 0.28367871 0.28360084]\n",
      "27 day output [[0.28352436]]\n",
      "28 day input [0.30495319 0.30446678 0.30399051 0.3035242  0.30306748 0.30262023\n",
      " 0.30218208 0.30175295 0.30133262 0.30092081 0.30051735 0.30012208\n",
      " 0.29973477 0.29935527 0.29898334 0.29861885 0.29826158 0.29791149\n",
      " 0.29756826 0.29723188 0.29690212 0.29657879 0.29626179 0.29595107\n",
      " 0.29564634 0.29534754 0.29505458 0.2947672  0.29448548 0.29420906\n",
      " 0.29393804 0.29367217 0.2934114  0.29315561 0.29290465 0.29265851\n",
      " 0.29241705 0.29218006 0.29194754 0.29171956 0.29149574 0.29127613\n",
      " 0.29106066 0.29084927 0.29064173 0.29043803 0.29023826 0.29004213\n",
      " 0.28984967 0.28966069 0.28947529 0.28929326 0.28911456 0.28893918\n",
      " 0.28876704 0.28859806 0.28843209 0.28826922 0.2881093  0.28795233\n",
      " 0.28779817 0.28764683 0.28749824 0.28735232 0.28720909 0.28706837\n",
      " 0.28693026 0.28679463 0.28666142 0.28653058 0.28640217 0.28627604\n",
      " 0.28615212 0.28603047 0.28591105 0.28579366 0.28567839 0.2855652\n",
      " 0.28545401 0.28534484 0.28523758 0.2851322  0.28502876 0.28492704\n",
      " 0.2848272  0.28472918 0.28463277 0.28453815 0.28444517 0.28435385\n",
      " 0.28426415 0.28417593 0.28408936 0.28400433 0.28392076 0.2838386\n",
      " 0.28375795 0.28367871 0.28360084 0.28352436]\n",
      "28 day output [[0.28344917]]\n",
      "29 day input [0.30446678 0.30399051 0.3035242  0.30306748 0.30262023 0.30218208\n",
      " 0.30175295 0.30133262 0.30092081 0.30051735 0.30012208 0.29973477\n",
      " 0.29935527 0.29898334 0.29861885 0.29826158 0.29791149 0.29756826\n",
      " 0.29723188 0.29690212 0.29657879 0.29626179 0.29595107 0.29564634\n",
      " 0.29534754 0.29505458 0.2947672  0.29448548 0.29420906 0.29393804\n",
      " 0.29367217 0.2934114  0.29315561 0.29290465 0.29265851 0.29241705\n",
      " 0.29218006 0.29194754 0.29171956 0.29149574 0.29127613 0.29106066\n",
      " 0.29084927 0.29064173 0.29043803 0.29023826 0.29004213 0.28984967\n",
      " 0.28966069 0.28947529 0.28929326 0.28911456 0.28893918 0.28876704\n",
      " 0.28859806 0.28843209 0.28826922 0.2881093  0.28795233 0.28779817\n",
      " 0.28764683 0.28749824 0.28735232 0.28720909 0.28706837 0.28693026\n",
      " 0.28679463 0.28666142 0.28653058 0.28640217 0.28627604 0.28615212\n",
      " 0.28603047 0.28591105 0.28579366 0.28567839 0.2855652  0.28545401\n",
      " 0.28534484 0.28523758 0.2851322  0.28502876 0.28492704 0.2848272\n",
      " 0.28472918 0.28463277 0.28453815 0.28444517 0.28435385 0.28426415\n",
      " 0.28417593 0.28408936 0.28400433 0.28392076 0.2838386  0.28375795\n",
      " 0.28367871 0.28360084 0.28352436 0.28344917]\n",
      "29 day output [[0.28337535]]\n"
     ]
    }
   ],
   "source": [
    "lst_output = []\n",
    "n_steps = 100\n",
    "i =0\n",
    "\n",
    "while(i<30):\n",
    "    if(len(temp_input)>100):\n",
    "        #print(temp_input)\n",
    "        x_input = np.array(temp_input[1:])\n",
    "        print(f\"{i} day input {x_input}\")\n",
    "        x_input = x_input.reshape(1, -1)\n",
    "        x_input = x_input.reshape((1, n_steps, 1))\n",
    "        yhat = model.predict(x_input, verbose=0)\n",
    "        print(f\"{i} day output {yhat}\")\n",
    "        temp_input.extend(yhat[0].tolist())\n",
    "        temp_input = temp_input[1:]\n",
    "        lst_output.extend(yhat.tolist())\n",
    "        i = i+1\n",
    "    \n",
    "    else:\n",
    "        x_input = x_input.reshape((1, n_steps, 1))\n",
    "        yhat = model.predict(x_input, verbose=0)\n",
    "        print(yhat[0])\n",
    "        temp_input.extend(yhat[0].tolist())\n",
    "        print(len(temp_input))\n",
    "        lst_output.extend(yhat.tolist())\n",
    "        i = i+1"
   ]
  },
  {
   "cell_type": "code",
   "execution_count": 75,
   "metadata": {},
   "outputs": [],
   "source": [
    "day_new = np.arange(1, 101)\n",
    "day_pred = np.arange(101, 131)"
   ]
  },
  {
   "cell_type": "code",
   "execution_count": 76,
   "metadata": {},
   "outputs": [
    {
     "data": {
      "image/png": "[encoded data removed]",
      "text/plain": [
       "<Figure size 640x480 with 1 Axes>"
      ]
     },
     "metadata": {},
     "output_type": "display_data"
    }
   ],
   "source": [
    "plt.plot(day_new, scaler.inverse_transform(df_close[len(df_close)-100 : ]), label=\"Previous Price\")\n",
    "plt.plot(day_pred, scaler.inverse_transform(lst_output), label=\"Prediction Price\")\n",
    "plt.legend(loc=\"upper left\")\n",
    "plt.show()"
   ]
  },
  {
   "cell_type": "code",
   "execution_count": null,
   "metadata": {},
   "outputs": [],
   "source": []
  }
 ],
 "metadata": {
  "kernelspec": {
   "display_name": "Python 3",
   "language": "python",
   "name": "python3"
  },
  "language_info": {
   "codemirror_mode": {
    "name": "ipython",
    "version": 3
   },
   "file_extension": ".py",
   "mimetype": "text/x-python",
   "name": "python",
   "nbconvert_exporter": "python",
   "pygments_lexer": "ipython3",
   "version": "3.11.2"
  }
 },
 "nbformat": 4,
 "nbformat_minor": 2
}
